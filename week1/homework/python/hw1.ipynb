{
 "cells": [
  {
   "cell_type": "markdown",
   "id": "f0c620cb-0952-4d3f-ab35-2eb60fb06dee",
   "metadata": {},
   "source": [
    "Homework Week 1: Python"
   ]
  },
  {
   "cell_type": "code",
   "execution_count": 2,
   "id": "e1cad685-195a-4bce-a97b-fa0029284aef",
   "metadata": {},
   "outputs": [],
   "source": [
    "import numpy as np\n"
   ]
  },
  {
   "cell_type": "markdown",
   "id": "63bd26c5-3564-46a8-92f0-49f45a9a43c5",
   "metadata": {},
   "source": [
    "1)  Use and show R code to produce all even integers greater than 7 but less than 101."
   ]
  },
  {
   "cell_type": "code",
   "execution_count": 4,
   "id": "6df9accb-8095-4251-88f3-a77dc576cfc1",
   "metadata": {
    "collapsed": true,
    "jupyter": {
     "outputs_hidden": true
    },
    "tags": []
   },
   "outputs": [
    {
     "name": "stdout",
     "output_type": "stream",
     "text": [
      "8\n",
      "10\n",
      "12\n",
      "14\n",
      "16\n",
      "18\n",
      "20\n",
      "22\n",
      "24\n",
      "26\n",
      "28\n",
      "30\n",
      "32\n",
      "34\n",
      "36\n",
      "38\n",
      "40\n",
      "42\n",
      "44\n",
      "46\n",
      "48\n",
      "50\n",
      "52\n",
      "54\n",
      "56\n",
      "58\n",
      "60\n",
      "62\n",
      "64\n",
      "66\n",
      "68\n",
      "70\n",
      "72\n",
      "74\n",
      "76\n",
      "78\n",
      "80\n",
      "82\n",
      "84\n",
      "86\n",
      "88\n",
      "90\n",
      "92\n",
      "94\n",
      "96\n",
      "98\n",
      "100\n"
     ]
    }
   ],
   "source": [
    "for i in range(7,101):\n",
    "    if i % 2 == 0:\n",
    "        print(i)"
   ]
  },
  {
   "cell_type": "markdown",
   "id": "580cfaf3-2255-493f-a908-71212d791a6a",
   "metadata": {},
   "source": [
    "2)  Use and show R code to find the mean of all positive integers less than 100."
   ]
  },
  {
   "cell_type": "code",
   "execution_count": 4,
   "id": "69297b7f-281d-4348-96fc-bd9ab6a010cc",
   "metadata": {
    "tags": []
   },
   "outputs": [
    {
     "name": "stdout",
     "output_type": "stream",
     "text": [
      "49.5\n"
     ]
    }
   ],
   "source": [
    "values = []\n",
    "for i in range(1, 99):\n",
    "    values.append(i)\n",
    "    \n",
    "print(np.mean(values))"
   ]
  },
  {
   "cell_type": "markdown",
   "id": "2cf8be57-c039-44d3-a8b1-2550dc553fae",
   "metadata": {},
   "source": [
    "3) Write a function (using r code and structure demonstrated in class) to calculate a z score for a given observed value, a mean, and a standard deviation value. And then use your function to find a z score for the following problem. (Research the internet to find the formula used to calculate a z score)Observed value = 25.77,  mean =  23.54,  standard deviation = 2.442\n",
    "4)  Use and show R code to round your z score answer in problem 3 to the nearest tenth"
   ]
  },
  {
   "cell_type": "code",
   "execution_count": 9,
   "id": "f01279f1-36d7-44d6-aabc-89e119034750",
   "metadata": {},
   "outputs": [],
   "source": [
    "def get_dat_z_score_bb(observed, mean_num, \n",
    "                       std_dev, rounded=False):\n",
    "    \n",
    "    z_score = (observed - mean_num)/(std_dev)\n",
    "    \n",
    "    if rounded == True:\n",
    "        rounded_z_score = round(z_score, ndigits=2)\n",
    "        return rounded_z_score\n",
    "    \n",
    "    return z_score\n",
    "    "
   ]
  },
  {
   "cell_type": "code",
   "execution_count": 10,
   "id": "94d275a7-cdd3-4f02-b64f-69826466eb97",
   "metadata": {},
   "outputs": [
    {
     "data": {
      "text/plain": [
       "0.920726672171759"
      ]
     },
     "execution_count": 10,
     "metadata": {},
     "output_type": "execute_result"
    }
   ],
   "source": [
    "get_dat_z_score_bb(25.77, 23.54, 2.422)"
   ]
  },
  {
   "cell_type": "markdown",
   "id": "9fb98b72-5036-4135-ae2f-6b0ca462c1b3",
   "metadata": {},
   "source": [
    "5)  Write a function (using r code and the structure demonstrated in class) to calculate the natural log of a number multiplied by the common log of the same number divided by the cube root of a given prime number.Use your function to find the answer if the number to be used for both log expressions is 32 and the given prime number is 11.\n",
    "6)  Use and show R code to round your answer in problem 5 to the nearest hundredth."
   ]
  },
  {
   "cell_type": "markdown",
   "id": "0e032f14-558a-43ec-9d30-5ce720601d0c",
   "metadata": {},
   "source": [
    "7)  Write a function (using r code and the structure demonstrated in class) that will create the first10 squares of positive odd integers.  That is your function will give you the following output.   1, 9, 25, 49, ..., 361 when you input values 1 to 10."
   ]
  },
  {
   "cell_type": "code",
   "execution_count": 5,
   "id": "70cd3d60-9b4c-407e-8431-e24261cc8b45",
   "metadata": {},
   "outputs": [],
   "source": [
    "def first_10_squares_odd(min_value, max_value):\n",
    "    output = []\n",
    "    \n",
    "    for i in range(min_value, max_value):\n",
    "        if i % 2 != 0:\n",
    "            output.append(i**2)\n",
    "            \n",
    "    return output"
   ]
  },
  {
   "cell_type": "code",
   "execution_count": 6,
   "id": "1470de1c-9f9b-4c73-9b7c-6b5f71b62677",
   "metadata": {},
   "outputs": [
    {
     "data": {
      "text/plain": [
       "[1, 9, 25, 49, 81]"
      ]
     },
     "execution_count": 6,
     "metadata": {},
     "output_type": "execute_result"
    }
   ],
   "source": [
    "first_10_squares_odd(1, 10)"
   ]
  }
 ],
 "metadata": {
  "kernelspec": {
   "display_name": "Python 3",
   "language": "python",
   "name": "python3"
  },
  "language_info": {
   "codemirror_mode": {
    "name": "ipython",
    "version": 3
   },
   "file_extension": ".py",
   "mimetype": "text/x-python",
   "name": "python",
   "nbconvert_exporter": "python",
   "pygments_lexer": "ipython3",
   "version": "3.8.8"
  }
 },
 "nbformat": 4,
 "nbformat_minor": 5
}
