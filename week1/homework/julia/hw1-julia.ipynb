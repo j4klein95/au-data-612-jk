{
 "cells": [
  {
   "cell_type": "markdown",
   "id": "49cae357-098e-498c-9f03-c4ea9b575b9c",
   "metadata": {},
   "source": [
    "1)  Use and show R code to produce all even integers greater than 7 but less than 101."
   ]
  },
  {
   "cell_type": "code",
   "execution_count": 1,
   "id": "0d694573-6665-45f4-809e-257b75e24e1e",
   "metadata": {
    "collapsed": true,
    "jupyter": {
     "outputs_hidden": true
    },
    "tags": []
   },
   "outputs": [
    {
     "name": "stdout",
     "output_type": "stream",
     "text": [
      "8\n",
      "10\n",
      "12\n",
      "14\n",
      "16\n",
      "18\n",
      "20\n",
      "22\n",
      "24\n",
      "26\n",
      "28\n",
      "30\n",
      "32\n",
      "34\n",
      "36\n",
      "38\n",
      "40\n",
      "42\n",
      "44\n",
      "46\n",
      "48\n",
      "50\n",
      "52\n",
      "54\n",
      "56\n",
      "58\n",
      "60\n",
      "62\n",
      "64\n",
      "66\n",
      "68\n",
      "70\n",
      "72\n",
      "74\n",
      "76\n",
      "78\n",
      "80\n",
      "82\n",
      "84\n",
      "86\n",
      "88\n",
      "90\n",
      "92\n",
      "94\n",
      "96\n",
      "98\n",
      "100\n"
     ]
    }
   ],
   "source": [
    "for i in 7:101\n",
    "    if mod(i, 2) == 0\n",
    "        println(i)\n",
    "    end\n",
    "end"
   ]
  },
  {
   "cell_type": "markdown",
   "id": "21c4ea0f-9a8a-4d3e-998a-32d9b4c0bdbe",
   "metadata": {},
   "source": [
    "2)  Use and show R code to find the mean of all positive integers less than 100."
   ]
  },
  {
   "cell_type": "code",
   "execution_count": 2,
   "id": "2d9003e4-4128-4299-af03-479c6a7f67b9",
   "metadata": {},
   "outputs": [
    {
     "name": "stdout",
     "output_type": "stream",
     "text": [
      "49.5\n"
     ]
    }
   ],
   "source": [
    "using Statistics\n",
    "\n",
    "empty_vector = Vector{Int}()\n",
    "\n",
    "for i in 0:99\n",
    "    append!(empty_vector, i)\n",
    "end\n",
    "\n",
    "println(mean(empty_vector))"
   ]
  },
  {
   "cell_type": "markdown",
   "id": "d7a74aa8-c0c9-4c0f-8ab7-8d51800ed173",
   "metadata": {},
   "source": [
    "3) Write a function (using r code and structure demonstrated in class) to calculate a z score for a given observed value, a mean, and a standard deviation value. And then use your function to find a z score for the following problem. (Research the internet to find the formula used to calculate a z score)Observed value = 25.77,  mean =  23.54,  standard deviation = 2.442\n",
    "4)  Use and show R code to round your z score answer in problem 3 to the nearest tenth"
   ]
  },
  {
   "cell_type": "code",
   "execution_count": 19,
   "id": "3e139732-6538-433b-b3c6-69d280ebc2a3",
   "metadata": {},
   "outputs": [
    {
     "data": {
      "text/plain": [
       "get_dat_z_score_bb (generic function with 3 methods)"
      ]
     },
     "execution_count": 19,
     "metadata": {},
     "output_type": "execute_result"
    }
   ],
   "source": [
    "function get_dat_z_score_bb(obsv, mean_num, stdv, round_=false)\n",
    "    if round_ == false\n",
    "        z_score = (obsv - mean_num)/stdv\n",
    "        return z_score\n",
    "    else\n",
    "        z_score = (obsv - mean_num)/stdv\n",
    "        rounded_z_score = round(z_score, digits = 3)\n",
    "        return rounded_z_score\n",
    "    end\n",
    "end"
   ]
  },
  {
   "cell_type": "code",
   "execution_count": 22,
   "id": "4becd4d6-63a7-43a2-82ae-99a6b2a83c15",
   "metadata": {},
   "outputs": [
    {
     "data": {
      "text/plain": [
       "0.920726672171759"
      ]
     },
     "execution_count": 22,
     "metadata": {},
     "output_type": "execute_result"
    }
   ],
   "source": [
    "get_dat_z_score_bb(25.77, 23.54, 2.422)"
   ]
  },
  {
   "cell_type": "markdown",
   "id": "6a49444f-f0dc-4397-b688-6aa12d124a9d",
   "metadata": {},
   "source": [
    "5)  Write a function (using r code and the structure demonstrated in class) to calculate the natural log of a number multiplied by the common log of the same number divided by the cube root of a given prime number.Use your function to find the answer if the number to be used for both log expressions is 32 and the given prime number is 11.\n",
    "6)  Use and show R code to round your answer in problem 5 to the nearest hundredth."
   ]
  },
  {
   "cell_type": "markdown",
   "id": "bce557eb-4eb2-4e7d-a519-f9235b58bdc4",
   "metadata": {},
   "source": [
    "7)  Write a function (using r code and the structure demonstrated in class) that will create the first10 squares of positive odd integers.  That is your function will give you the following output.   1, 9, 25, 49, ..., 361 when you input values 1 to 10."
   ]
  },
  {
   "cell_type": "code",
   "execution_count": 23,
   "id": "6d84ab73-e61e-41a0-b673-443c2f993b0c",
   "metadata": {},
   "outputs": [
    {
     "data": {
      "text/plain": [
       "Any[]"
      ]
     },
     "execution_count": 23,
     "metadata": {},
     "output_type": "execute_result"
    }
   ],
   "source": [
    "output = []"
   ]
  },
  {
   "cell_type": "code",
   "execution_count": 25,
   "id": "dde2de3f-1cdd-417a-83cf-ae6666906bd3",
   "metadata": {},
   "outputs": [
    {
     "data": {
      "text/plain": [
       "Vector{Any} (alias for Array{Any, 1})"
      ]
     },
     "execution_count": 25,
     "metadata": {},
     "output_type": "execute_result"
    }
   ],
   "source": [
    "typeof(output)"
   ]
  },
  {
   "cell_type": "code",
   "execution_count": 36,
   "id": "3a966c7d-3087-4429-a202-46cc435ba9fd",
   "metadata": {},
   "outputs": [
    {
     "data": {
      "text/plain": [
       "first_10_squares_odd (generic function with 1 method)"
      ]
     },
     "execution_count": 36,
     "metadata": {},
     "output_type": "execute_result"
    }
   ],
   "source": [
    "function first_10_squares_odd(min_v, max_v)\n",
    "    output = []\n",
    "    \n",
    "    for i in min_v:max_v\n",
    "        if mod(i, 2) != 0\n",
    "            append!(output, i^2)\n",
    "        end\n",
    "    end\n",
    "    return output\n",
    "end"
   ]
  },
  {
   "cell_type": "code",
   "execution_count": 37,
   "id": "a612ac51-27bb-42c7-995d-1b41692ef1ef",
   "metadata": {},
   "outputs": [
    {
     "data": {
      "text/plain": [
       "5-element Vector{Any}:\n",
       "  1\n",
       "  9\n",
       " 25\n",
       " 49\n",
       " 81"
      ]
     },
     "execution_count": 37,
     "metadata": {},
     "output_type": "execute_result"
    }
   ],
   "source": [
    "first_10_squares_odd(1, 10)"
   ]
  },
  {
   "cell_type": "code",
   "execution_count": null,
   "id": "6d592bdd-bde3-49dc-baeb-6e07a5bc85da",
   "metadata": {},
   "outputs": [],
   "source": []
  }
 ],
 "metadata": {
  "kernelspec": {
   "display_name": "Julia 1.6.2",
   "language": "julia",
   "name": "julia-1.6"
  },
  "language_info": {
   "file_extension": ".jl",
   "mimetype": "application/julia",
   "name": "julia",
   "version": "1.6.2"
  }
 },
 "nbformat": 4,
 "nbformat_minor": 5
}
