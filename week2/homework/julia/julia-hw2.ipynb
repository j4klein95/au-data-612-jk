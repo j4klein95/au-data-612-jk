{
 "cells": [
  {
   "cell_type": "code",
   "execution_count": null,
   "id": "c2030995-c0dd-401e-bda0-1da17358c18f",
   "metadata": {},
   "outputs": [],
   "source": [
    "# Setup\n",
    "# import Pkg\n",
    "# Pkg.add(\"CodecBzip2\")\n",
    "# Pkg.add(\"RData\")\n",
    "#Pkg.add(\"RCall\")"
   ]
  },
  {
   "cell_type": "code",
   "execution_count": 3,
   "id": "dc944a45-9c96-4eb3-99a3-032a3d18cde4",
   "metadata": {},
   "outputs": [
    {
     "name": "stderr",
     "output_type": "stream",
     "text": [
      "WARNING: using RDatasets.dataset in module Main conflicts with an existing identifier.\n"
     ]
    }
   ],
   "source": [
    "using DataFrames\n",
    "using PlotlyJS\n",
    "\n",
    "using RData\n",
    "using RDatasets\n",
    "using RCall\n",
    "import CodecBzip2\n"
   ]
  },
  {
   "cell_type": "code",
   "execution_count": 4,
   "id": "6c35222e-9e98-42a9-ba36-8c4c6cd094ad",
   "metadata": {},
   "outputs": [
    {
     "data": {
      "text/html": [
       "<div class=\"data-frame\"><p>437 rows × 28 columns (omitted printing of 19 columns)</p><table class=\"data-frame\"><thead><tr><th></th><th>PID</th><th>County</th><th>State</th><th>Area</th><th>PopTotal</th><th>PopDensity</th><th>PopWhite</th><th>PopBlack</th><th>PopAmerIndian</th></tr><tr><th></th><th title=\"Int32\">Int32</th><th title=\"String\">String</th><th title=\"String\">String</th><th title=\"Float64\">Float64</th><th title=\"Int32\">Int32</th><th title=\"Float64\">Float64</th><th title=\"Int32\">Int32</th><th title=\"Int32\">Int32</th><th title=\"Int32\">Int32</th></tr></thead><tbody><tr><th>1</th><td>561</td><td>ADAMS</td><td>IL</td><td>0.052</td><td>66090</td><td>1270.96</td><td>63917</td><td>1702</td><td>98</td></tr><tr><th>2</th><td>562</td><td>ALEXANDER</td><td>IL</td><td>0.014</td><td>10626</td><td>759.0</td><td>7054</td><td>3496</td><td>19</td></tr><tr><th>3</th><td>563</td><td>BOND</td><td>IL</td><td>0.022</td><td>14991</td><td>681.409</td><td>14477</td><td>429</td><td>35</td></tr><tr><th>4</th><td>564</td><td>BOONE</td><td>IL</td><td>0.017</td><td>30806</td><td>1812.12</td><td>29344</td><td>127</td><td>46</td></tr><tr><th>5</th><td>565</td><td>BROWN</td><td>IL</td><td>0.018</td><td>5836</td><td>324.222</td><td>5264</td><td>547</td><td>14</td></tr><tr><th>6</th><td>566</td><td>BUREAU</td><td>IL</td><td>0.05</td><td>35688</td><td>713.76</td><td>35157</td><td>50</td><td>65</td></tr><tr><th>7</th><td>567</td><td>CALHOUN</td><td>IL</td><td>0.017</td><td>5322</td><td>313.059</td><td>5298</td><td>1</td><td>8</td></tr><tr><th>8</th><td>568</td><td>CARROLL</td><td>IL</td><td>0.027</td><td>16805</td><td>622.407</td><td>16519</td><td>111</td><td>30</td></tr><tr><th>9</th><td>569</td><td>CASS</td><td>IL</td><td>0.024</td><td>13437</td><td>559.875</td><td>13384</td><td>16</td><td>8</td></tr><tr><th>10</th><td>570</td><td>CHAMPAIGN</td><td>IL</td><td>0.058</td><td>173025</td><td>2983.19</td><td>146506</td><td>16559</td><td>331</td></tr><tr><th>11</th><td>571</td><td>CHRISTIAN</td><td>IL</td><td>0.042</td><td>34418</td><td>819.476</td><td>34176</td><td>82</td><td>51</td></tr><tr><th>12</th><td>572</td><td>CLARK</td><td>IL</td><td>0.03</td><td>15921</td><td>530.7</td><td>15842</td><td>10</td><td>26</td></tr><tr><th>13</th><td>573</td><td>CLAY</td><td>IL</td><td>0.028</td><td>14460</td><td>516.429</td><td>14403</td><td>4</td><td>17</td></tr><tr><th>14</th><td>574</td><td>CLINTON</td><td>IL</td><td>0.029</td><td>33944</td><td>1170.48</td><td>32688</td><td>1021</td><td>48</td></tr><tr><th>15</th><td>575</td><td>COLES</td><td>IL</td><td>0.03</td><td>51644</td><td>1721.47</td><td>50177</td><td>925</td><td>92</td></tr><tr><th>16</th><td>576</td><td>COOK</td><td>IL</td><td>0.058</td><td>5105067</td><td>88018.4</td><td>3204947</td><td>1317147</td><td>10289</td></tr><tr><th>17</th><td>577</td><td>CRAWFORD</td><td>IL</td><td>0.026</td><td>19464</td><td>748.615</td><td>19300</td><td>63</td><td>34</td></tr><tr><th>18</th><td>578</td><td>CUMBERLAND</td><td>IL</td><td>0.02</td><td>10670</td><td>533.5</td><td>10627</td><td>5</td><td>6</td></tr><tr><th>19</th><td>579</td><td>DE KALB</td><td>IL</td><td>0.038</td><td>77932</td><td>2050.84</td><td>72968</td><td>2069</td><td>123</td></tr><tr><th>20</th><td>580</td><td>DE WITT</td><td>IL</td><td>0.023</td><td>16516</td><td>718.087</td><td>16387</td><td>25</td><td>37</td></tr><tr><th>21</th><td>581</td><td>DOUGLAS</td><td>IL</td><td>0.025</td><td>19464</td><td>778.56</td><td>19280</td><td>16</td><td>19</td></tr><tr><th>22</th><td>582</td><td>DU PAGE</td><td>IL</td><td>0.02</td><td>781666</td><td>39083.3</td><td>714905</td><td>15462</td><td>962</td></tr><tr><th>23</th><td>583</td><td>EDGAR</td><td>IL</td><td>0.036</td><td>19595</td><td>544.306</td><td>19469</td><td>68</td><td>24</td></tr><tr><th>24</th><td>584</td><td>EDWARDS</td><td>IL</td><td>0.014</td><td>7440</td><td>531.429</td><td>7401</td><td>6</td><td>8</td></tr><tr><th>25</th><td>585</td><td>EFFINGHAM</td><td>IL</td><td>0.028</td><td>31704</td><td>1132.29</td><td>31523</td><td>12</td><td>45</td></tr><tr><th>26</th><td>586</td><td>FAYETTE</td><td>IL</td><td>0.044</td><td>20893</td><td>474.841</td><td>20148</td><td>599</td><td>40</td></tr><tr><th>27</th><td>587</td><td>FORD</td><td>IL</td><td>0.03</td><td>14275</td><td>475.833</td><td>14157</td><td>43</td><td>14</td></tr><tr><th>28</th><td>588</td><td>FRANKLIN</td><td>IL</td><td>0.025</td><td>40319</td><td>1612.76</td><td>40068</td><td>36</td><td>106</td></tr><tr><th>29</th><td>589</td><td>FULTON</td><td>IL</td><td>0.052</td><td>38080</td><td>732.308</td><td>37117</td><td>668</td><td>83</td></tr><tr><th>30</th><td>590</td><td>GALLATIN</td><td>IL</td><td>0.019</td><td>6909</td><td>363.632</td><td>6842</td><td>42</td><td>10</td></tr><tr><th>&vellip;</th><td>&vellip;</td><td>&vellip;</td><td>&vellip;</td><td>&vellip;</td><td>&vellip;</td><td>&vellip;</td><td>&vellip;</td><td>&vellip;</td><td>&vellip;</td></tr></tbody></table></div>"
      ],
      "text/latex": [
       "\\begin{tabular}{r|cccccccccc}\n",
       "\t& PID & County & State & Area & PopTotal & PopDensity & PopWhite & PopBlack & PopAmerIndian & \\\\\n",
       "\t\\hline\n",
       "\t& Int32 & String & String & Float64 & Int32 & Float64 & Int32 & Int32 & Int32 & \\\\\n",
       "\t\\hline\n",
       "\t1 & 561 & ADAMS & IL & 0.052 & 66090 & 1270.96 & 63917 & 1702 & 98 & $\\dots$ \\\\\n",
       "\t2 & 562 & ALEXANDER & IL & 0.014 & 10626 & 759.0 & 7054 & 3496 & 19 & $\\dots$ \\\\\n",
       "\t3 & 563 & BOND & IL & 0.022 & 14991 & 681.409 & 14477 & 429 & 35 & $\\dots$ \\\\\n",
       "\t4 & 564 & BOONE & IL & 0.017 & 30806 & 1812.12 & 29344 & 127 & 46 & $\\dots$ \\\\\n",
       "\t5 & 565 & BROWN & IL & 0.018 & 5836 & 324.222 & 5264 & 547 & 14 & $\\dots$ \\\\\n",
       "\t6 & 566 & BUREAU & IL & 0.05 & 35688 & 713.76 & 35157 & 50 & 65 & $\\dots$ \\\\\n",
       "\t7 & 567 & CALHOUN & IL & 0.017 & 5322 & 313.059 & 5298 & 1 & 8 & $\\dots$ \\\\\n",
       "\t8 & 568 & CARROLL & IL & 0.027 & 16805 & 622.407 & 16519 & 111 & 30 & $\\dots$ \\\\\n",
       "\t9 & 569 & CASS & IL & 0.024 & 13437 & 559.875 & 13384 & 16 & 8 & $\\dots$ \\\\\n",
       "\t10 & 570 & CHAMPAIGN & IL & 0.058 & 173025 & 2983.19 & 146506 & 16559 & 331 & $\\dots$ \\\\\n",
       "\t11 & 571 & CHRISTIAN & IL & 0.042 & 34418 & 819.476 & 34176 & 82 & 51 & $\\dots$ \\\\\n",
       "\t12 & 572 & CLARK & IL & 0.03 & 15921 & 530.7 & 15842 & 10 & 26 & $\\dots$ \\\\\n",
       "\t13 & 573 & CLAY & IL & 0.028 & 14460 & 516.429 & 14403 & 4 & 17 & $\\dots$ \\\\\n",
       "\t14 & 574 & CLINTON & IL & 0.029 & 33944 & 1170.48 & 32688 & 1021 & 48 & $\\dots$ \\\\\n",
       "\t15 & 575 & COLES & IL & 0.03 & 51644 & 1721.47 & 50177 & 925 & 92 & $\\dots$ \\\\\n",
       "\t16 & 576 & COOK & IL & 0.058 & 5105067 & 88018.4 & 3204947 & 1317147 & 10289 & $\\dots$ \\\\\n",
       "\t17 & 577 & CRAWFORD & IL & 0.026 & 19464 & 748.615 & 19300 & 63 & 34 & $\\dots$ \\\\\n",
       "\t18 & 578 & CUMBERLAND & IL & 0.02 & 10670 & 533.5 & 10627 & 5 & 6 & $\\dots$ \\\\\n",
       "\t19 & 579 & DE KALB & IL & 0.038 & 77932 & 2050.84 & 72968 & 2069 & 123 & $\\dots$ \\\\\n",
       "\t20 & 580 & DE WITT & IL & 0.023 & 16516 & 718.087 & 16387 & 25 & 37 & $\\dots$ \\\\\n",
       "\t21 & 581 & DOUGLAS & IL & 0.025 & 19464 & 778.56 & 19280 & 16 & 19 & $\\dots$ \\\\\n",
       "\t22 & 582 & DU PAGE & IL & 0.02 & 781666 & 39083.3 & 714905 & 15462 & 962 & $\\dots$ \\\\\n",
       "\t23 & 583 & EDGAR & IL & 0.036 & 19595 & 544.306 & 19469 & 68 & 24 & $\\dots$ \\\\\n",
       "\t24 & 584 & EDWARDS & IL & 0.014 & 7440 & 531.429 & 7401 & 6 & 8 & $\\dots$ \\\\\n",
       "\t25 & 585 & EFFINGHAM & IL & 0.028 & 31704 & 1132.29 & 31523 & 12 & 45 & $\\dots$ \\\\\n",
       "\t26 & 586 & FAYETTE & IL & 0.044 & 20893 & 474.841 & 20148 & 599 & 40 & $\\dots$ \\\\\n",
       "\t27 & 587 & FORD & IL & 0.03 & 14275 & 475.833 & 14157 & 43 & 14 & $\\dots$ \\\\\n",
       "\t28 & 588 & FRANKLIN & IL & 0.025 & 40319 & 1612.76 & 40068 & 36 & 106 & $\\dots$ \\\\\n",
       "\t29 & 589 & FULTON & IL & 0.052 & 38080 & 732.308 & 37117 & 668 & 83 & $\\dots$ \\\\\n",
       "\t30 & 590 & GALLATIN & IL & 0.019 & 6909 & 363.632 & 6842 & 42 & 10 & $\\dots$ \\\\\n",
       "\t$\\dots$ & $\\dots$ & $\\dots$ & $\\dots$ & $\\dots$ & $\\dots$ & $\\dots$ & $\\dots$ & $\\dots$ & $\\dots$ &  \\\\\n",
       "\\end{tabular}\n"
      ],
      "text/plain": [
       "\u001b[1m437×28 DataFrame\u001b[0m\n",
       "\u001b[1m Row \u001b[0m│\u001b[1m PID   \u001b[0m\u001b[1m County      \u001b[0m\u001b[1m State  \u001b[0m\u001b[1m Area    \u001b[0m\u001b[1m PopTotal \u001b[0m\u001b[1m PopDensity \u001b[0m\u001b[1m PopWhite \u001b[0m\u001b[1m Po\u001b[0m ⋯\n",
       "\u001b[1m     \u001b[0m│\u001b[90m Int32 \u001b[0m\u001b[90m String      \u001b[0m\u001b[90m String \u001b[0m\u001b[90m Float64 \u001b[0m\u001b[90m Int32    \u001b[0m\u001b[90m Float64    \u001b[0m\u001b[90m Int32    \u001b[0m\u001b[90m In\u001b[0m ⋯\n",
       "─────┼──────────────────────────────────────────────────────────────────────────\n",
       "   1 │   561  ADAMS        IL        0.052     66090    1270.96      63917     ⋯\n",
       "   2 │   562  ALEXANDER    IL        0.014     10626     759.0        7054\n",
       "   3 │   563  BOND         IL        0.022     14991     681.409     14477\n",
       "   4 │   564  BOONE        IL        0.017     30806    1812.12      29344\n",
       "   5 │   565  BROWN        IL        0.018      5836     324.222      5264     ⋯\n",
       "   6 │   566  BUREAU       IL        0.05      35688     713.76      35157\n",
       "   7 │   567  CALHOUN      IL        0.017      5322     313.059      5298\n",
       "   8 │   568  CARROLL      IL        0.027     16805     622.407     16519\n",
       "   9 │   569  CASS         IL        0.024     13437     559.875     13384     ⋯\n",
       "  10 │   570  CHAMPAIGN    IL        0.058    173025    2983.19     146506\n",
       "  11 │   571  CHRISTIAN    IL        0.042     34418     819.476     34176\n",
       "  ⋮  │   ⋮         ⋮         ⋮        ⋮        ⋮          ⋮          ⋮         ⋱\n",
       " 428 │  3043  VERNON       WI        0.048     25617     533.688     25509\n",
       " 429 │  3044  VILAS        WI        0.06      17707     295.117     16116     ⋯\n",
       " 430 │  3045  WALWORTH     WI        0.032     75000    2343.75      72747\n",
       " 431 │  3046  WASHBURN     WI        0.05      13772     275.44      13585\n",
       " 432 │  3047  WASHINGTON   WI        0.025     95328    3813.12      94465\n",
       " 433 │  3048  WAUKESHA     WI        0.034    304715    8962.21     298313     ⋯\n",
       " 434 │  3049  WAUPACA      WI        0.045     46104    1024.53      45695\n",
       " 435 │  3050  WAUSHARA     WI        0.037     19385     523.919     19094\n",
       " 436 │  3051  WINNEBAGO    WI        0.035    140320    4009.14     136822\n",
       " 437 │  3052  WOOD         WI        0.048     73605    1533.44      72157     ⋯\n",
       "\u001b[36m                                                 21 columns and 416 rows omitted\u001b[0m"
      ]
     },
     "execution_count": 4,
     "metadata": {},
     "output_type": "execute_result"
    }
   ],
   "source": [
    "midwest = RDatasets.dataset(\"ggplot2\", \"midwest\")"
   ]
  },
  {
   "cell_type": "code",
   "execution_count": 6,
   "id": "d7cb527e-153c-4358-90a4-e54e15793537",
   "metadata": {},
   "outputs": [
    {
     "data": {
      "text/plain": [
       "28"
      ]
     },
     "execution_count": 6,
     "metadata": {},
     "output_type": "execute_result"
    }
   ],
   "source": [
    "ncol(midwest)"
   ]
  },
  {
   "cell_type": "code",
   "execution_count": null,
   "id": "ba23ced0-23e9-4b45-a383-8d72e0ade387",
   "metadata": {},
   "outputs": [],
   "source": []
  }
 ],
 "metadata": {
  "kernelspec": {
   "display_name": "Julia 1.6.2",
   "language": "julia",
   "name": "julia-1.6"
  },
  "language_info": {
   "file_extension": ".jl",
   "mimetype": "application/julia",
   "name": "julia",
   "version": "1.6.2"
  }
 },
 "nbformat": 4,
 "nbformat_minor": 5
}
